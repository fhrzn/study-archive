{
 "cells": [
  {
   "cell_type": "markdown",
   "metadata": {},
   "source": [
    "## Single Layer RNN Pytorch from Scratch\n",
    "In this notebook we want to perform"
   ]
  },
  {
   "cell_type": "code",
   "execution_count": 6,
   "metadata": {},
   "outputs": [],
   "source": [
    "# libraries\n",
    "import torch\n",
    "from torch import nn\n",
    "from torch.optim import Adam\n",
    "from torch.utils.data import TensorDataset, DataLoader\n",
    "\n",
    "import numpy as np\n",
    "from tqdm.auto import tqdm\n",
    "\n",
    "import os\n",
    "import unicodedata\n",
    "import string\n",
    "import random"
   ]
  },
  {
   "cell_type": "code",
   "execution_count": 7,
   "metadata": {},
   "outputs": [],
   "source": [
    "# read dataset\n",
    "PATH = '../data/'\n",
    "ALL_LETTERS = string.ascii_letters + '.,;'\n",
    "\n",
    "\n",
    "def to_ascii(text):\n",
    "    return ''.join(\n",
    "        c for c in unicodedata.normalize('NFD', text)\\\n",
    "            if unicodedata.category(c) != 'Mn' \\\n",
    "                and c in ALL_LETTERS\n",
    "    )\n",
    "\n",
    "names = []\n",
    "labels = []\n",
    "all_labels = []\n",
    "\n",
    "for f in os.listdir(PATH):\n",
    "    label = f[:-4]\n",
    "    all_labels.append(label)\n",
    "\n",
    "    with open(PATH + f, encoding='utf-8') as r:\n",
    "        lines = r.read().strip().split('\\n')\n",
    "\n",
    "        # names.extend([to_ascii(l) for l in lines])\n",
    "        names.extend(lines)\n",
    "        labels.extend([label for _ in range(len(lines))])\n",
    "\n",
    "assert len(names) == len(labels)\n",
    "\n",
    "# shuffle dataset\n",
    "index = list(range(len(names)))\n",
    "random.shuffle(index)\n",
    "names = [names[i] for i in index]\n",
    "labels = [labels[i] for i in index]"
   ]
  },
  {
   "cell_type": "code",
   "execution_count": 8,
   "metadata": {},
   "outputs": [],
   "source": [
    "# build vocab\n",
    "chars = tuple(set(''.join(names)))\n",
    "int2char = dict(enumerate(chars, 1))    # start vocab index from 1, bcs we will use 0 for padding\n",
    "int2char[0] = '<PAD>'   # add padding to vocab\n",
    "char2int = {v: k for k, v in int2char.items()}\n",
    "\n",
    "# encode words\n",
    "names_enc = [[char2int[ch] for ch in name] for name in names]\n",
    "\n",
    "# encode labels\n",
    "labels_enc = np.array([all_labels.index(x) for x in labels])"
   ]
  },
  {
   "cell_type": "code",
   "execution_count": 9,
   "metadata": {},
   "outputs": [
    {
     "data": {
      "text/plain": [
       "array([[ 0,  0,  0,  0,  0,  0,  0,  0,  0,  0,  0,  0,  0,  0, 76, 44,\n",
       "        66, 63, 55, 43],\n",
       "       [ 0,  0,  0,  0,  0,  0,  0,  0,  0,  0,  0,  0,  0,  0, 40, 44,\n",
       "        39, 43, 87, 63]])"
      ]
     },
     "execution_count": 9,
     "metadata": {},
     "output_type": "execute_result"
    }
   ],
   "source": [
    "# pad features\n",
    "seq_length = max([len(x) for x in names_enc])\n",
    "\n",
    "def pad_features(names, seq_length):    \n",
    "    features = np.zeros((len(names), seq_length), dtype=int)\n",
    "\n",
    "    for i, row in enumerate(names):\n",
    "        features[i, -len(row):] = np.array(row)[:seq_length]\n",
    "\n",
    "    return features\n",
    "\n",
    "features = pad_features(names_enc, seq_length)\n",
    "\n",
    "assert len(features) == len(names_enc)\n",
    "assert len(features[0]) == seq_length\n",
    "\n",
    "features[:2, :]"
   ]
  },
  {
   "cell_type": "code",
   "execution_count": null,
   "metadata": {},
   "outputs": [],
   "source": [
    "# train test split\n",
    "train_size = .8     # we will use 80% of data as train set\n",
    "val_size = .5       # we will use 50% of test set as validation set\n",
    "\n",
    "split_id = int(len(features) * train_size)\n",
    "train_x, remain_x = features[:split_id], features[split_id:]\n",
    "train_y, remain_y = labels_enc[:split_id], labels_enc[split_id:]\n",
    "\n",
    "test_id = int(len(remain_x) * val_size)\n",
    "val_x, test_x = remain_x[:test_id], remain_x[test_id:]\n",
    "val_y, test_y = remain_y[:test_id], remain_y[test_id:]\n",
    "\n",
    "print('Feature Shapes:')\n",
    "print('===============')\n",
    "print('Train set: {}'.format(train_x.shape))\n",
    "print('Validation set: {}'.format(val_x.shape))\n",
    "print('Test set: {}'.format(test_x.shape))"
   ]
  },
  {
   "cell_type": "code",
   "execution_count": 11,
   "metadata": {},
   "outputs": [],
   "source": [
    "# generate batches\n",
    "trainset = TensorDataset(torch.from_numpy(train_x), torch.from_numpy(train_y))\n",
    "validset = TensorDataset(torch.from_numpy(val_x), torch.from_numpy(val_y))\n",
    "testset = TensorDataset(torch.from_numpy(test_x), torch.from_numpy(test_y))\n",
    "\n",
    "batch_size = 64\n",
    "\n",
    "# dataloaders\n",
    "trainloader = DataLoader(trainset, shuffle=True, batch_size=batch_size)\n",
    "validloader = DataLoader(validset, shuffle=True, batch_size=batch_size)\n",
    "testloader = DataLoader(testset, shuffle=True, batch_size=batch_size)"
   ]
  },
  {
   "cell_type": "code",
   "execution_count": 12,
   "metadata": {},
   "outputs": [
    {
     "name": "stdout",
     "output_type": "stream",
     "text": [
      "Sample input size:  torch.Size([64, 20])\n",
      "Sample input: \n",
      " tensor([[ 0,  0,  0,  ..., 74,  4, 87],\n",
      "        [ 0,  0,  0,  ..., 43, 44, 63],\n",
      "        [ 0,  0,  0,  ..., 71, 87, 63],\n",
      "        ...,\n",
      "        [ 0,  0,  0,  ..., 56, 55, 17],\n",
      "        [ 0,  0,  0,  ..., 43, 87, 63],\n",
      "        [ 0,  0,  0,  ...,  9,  4, 44]])\n",
      "\n",
      "Sample label size:  torch.Size([64])\n",
      "Sample label: \n",
      " tensor([12,  6,  6, 10,  9,  4,  9,  6,  6,  3,  9,  9,  2,  9,  6, 12, 15, 14,\n",
      "         6,  6,  9,  9,  9,  6, 12, 12,  2,  2,  6,  3,  6,  3,  6,  6, 11,  3,\n",
      "         6,  6,  4,  7,  6,  6,  0,  9,  6,  9,  6,  9,  6,  3,  6,  6,  6,  6,\n",
      "        12,  2,  6,  6,  6,  6, 10,  2,  6,  6])\n"
     ]
    }
   ],
   "source": [
    "# check train data\n",
    "diter = iter(trainloader)\n",
    "x, y = diter.next()\n",
    "\n",
    "print('Sample input size: ', x.size()) # batch_size, seq_length\n",
    "print('Sample input: \\n', x)\n",
    "print()\n",
    "print('Sample label size: ', y.size()) # batch_size\n",
    "print('Sample label: \\n', y)"
   ]
  },
  {
   "cell_type": "code",
   "execution_count": 13,
   "metadata": {},
   "outputs": [],
   "source": [
    "# network architecture from scratch\n",
    "class NameRNN(nn.Module):\n",
    "    def __init__(self, vocab_size, hidden_size, output_size, embedding_size=32):\n",
    "        super(NameRNN, self).__init__()\n",
    "\n",
    "        self.hidden_size = hidden_size\n",
    "\n",
    "        # embedding layer is useful to map input into vector representation\n",
    "        self.embedding = nn.Embedding(vocab_size, embedding_size)\n",
    "\n",
    "        # here we define linear layer for each hidden, and output calculation\n",
    "        # we use linear layer bcs it perform W * x + b formula.        \n",
    "        self.hidden = nn.Linear(embedding_size + hidden_size, hidden_size)\n",
    "        self.output = nn.Linear(hidden_size, output_size)\n",
    "\n",
    "        # activation function\n",
    "        # we use softmax bcs we want to predict one of several labels/classes\n",
    "        self.softmax = nn.Softmax(dim=-1)\n",
    "\n",
    "    def forward(self, x, h_prev):\n",
    "        # map input into vector\n",
    "        x = self.embedding(x)\n",
    "        # print(f'Embedding size: {x.shape}')\n",
    "        # print(f'H_prev size: {h_prev.shape}')\n",
    "\n",
    "        # compute current hidden state by merging\n",
    "        # current input and previous hidden state\n",
    "        h = self.hidden(torch.cat([h_prev, x], dim=-1))\n",
    "        # print(f'Hidden size: {h.shape}')\n",
    "        h = torch.tanh(h)\n",
    "\n",
    "        # add validation\n",
    "        assert h.size == h_prev.size()\n",
    "\n",
    "        # compute output by inserting current hidden state\n",
    "        out = self.output(h)\n",
    "        out = self.softmax(out)\n",
    "\n",
    "        return h, out\n",
    "        \n",
    "\n",
    "    def init_hidden(self, batch_size):\n",
    "        # initialize hidden state with zeros\n",
    "        return torch.zeros(batch_size, self.hidden_size, requires_grad=True)"
   ]
  },
  {
   "cell_type": "code",
   "execution_count": 14,
   "metadata": {},
   "outputs": [],
   "source": [
    "# network architecture using PyTorch function\n",
    "class NameRNN(nn.Module):\n",
    "    def __init__(self, vocab_size=len(char2int), hidden_size=64, output_size=len(all_labels), embedding_size=16):\n",
    "        super(NameRNN, self).__init__()\n",
    "\n",
    "        self.hidden_size = hidden_size\n",
    "\n",
    "        # embedding layer is useful to map input into vector representation\n",
    "        self.embedding = nn.Embedding(vocab_size, embedding_size)\n",
    "\n",
    "        # RNN layer preserved by PyTorch library\n",
    "        # this layer handles RNN Cell loops\n",
    "        self.rnn = nn.RNN(embedding_size, hidden_size, batch_first=True)\n",
    "\n",
    "        # Linear layer for output\n",
    "        self.output = nn.Linear(hidden_size, output_size)\n",
    "\n",
    "        # softmax activation function\n",
    "        # we use softmax bcs we want to predict one of several labels/classes\n",
    "        self.softmax = nn.Softmax(dim=-1)\n",
    "\n",
    "    def forward(self, x):\n",
    "        # its optional to init hidden state by ourselves\n",
    "        # bcs PyTorch will handle it if we don't provide it\n",
    "\n",
    "        # map input to vector\n",
    "        x = self.embedding(x)\n",
    "\n",
    "        # compute current hidden state\n",
    "        o, h = self.rnn(x)    \n",
    "        \n",
    "        # get last sequence output\n",
    "        o = o[:, -1, :]\n",
    "        \n",
    "        # compute output\n",
    "        out = self.output(o)\n",
    "        # out = self.softmax(out)\n",
    "\n",
    "        return out"
   ]
  },
  {
   "cell_type": "code",
   "execution_count": 15,
   "metadata": {},
   "outputs": [
    {
     "name": "stdout",
     "output_type": "stream",
     "text": [
      "cpu\n"
     ]
    }
   ],
   "source": [
    "# define training device\n",
    "device = torch.device('cuda' if torch.cuda.is_available() else 'cpu')\n",
    "print(device)"
   ]
  },
  {
   "cell_type": "code",
   "execution_count": 16,
   "metadata": {},
   "outputs": [
    {
     "name": "stdout",
     "output_type": "stream",
     "text": [
      "NameRNN(\n",
      "  (embedding): Embedding(88, 16)\n",
      "  (rnn): RNN(16, 128, batch_first=True)\n",
      "  (output): Linear(in_features=128, out_features=18, bias=True)\n",
      "  (softmax): Softmax(dim=-1)\n",
      ")\n"
     ]
    }
   ],
   "source": [
    "# model hyperparameters\n",
    "vocab_size = len(char2int)\n",
    "output_size = len(all_labels)\n",
    "embedding_dim = 16\n",
    "hidden_dim = 128\n",
    "\n",
    "model = NameRNN(vocab_size, hidden_dim, output_size, embedding_dim)\n",
    "print(model)"
   ]
  },
  {
   "cell_type": "code",
   "execution_count": 17,
   "metadata": {},
   "outputs": [],
   "source": [
    "lr = 0.0001\n",
    "criterion = nn.CrossEntropyLoss()\n",
    "optim = Adam(model.parameters(), lr=lr)\n",
    "grad_clip = 5\n",
    "epochs = 500\n",
    "print_every = 100\n",
    "history = {\n",
    "    'train_loss': [],\n",
    "    'train_acc': [],\n",
    "    'val_loss': [],\n",
    "    'val_acc': []\n",
    "}"
   ]
  },
  {
   "cell_type": "code",
   "execution_count": null,
   "metadata": {},
   "outputs": [],
   "source": [
    "# train loop\n",
    "model = model.to(device)\n",
    "\n",
    "epochloop = tqdm(range(epochs), position=0, desc='Training...', leave=True)\n",
    "\n",
    "for e in epochloop:\n",
    "\n",
    "    #################\n",
    "    # training mode #\n",
    "    #################\n",
    "\n",
    "    model.train()\n",
    "\n",
    "    train_loss = 0\n",
    "    train_acc = 0\n",
    "    \n",
    "    # tqdm training progressbar\n",
    "    # trainloop = tqdm(trainloader, leave=True)\n",
    "    # trainloop.set_description(f'Epoch {e+1}/{epochs} | Training')\n",
    "\n",
    "    # for feature, target in trainloop:\n",
    "    for feature, target in trainloader:\n",
    "        target = target.type(torch.LongTensor)\n",
    "        # move to device\n",
    "        feature, target = feature.to(device), target.to(device)\n",
    "\n",
    "        # reset optimizer\n",
    "        optim.zero_grad()\n",
    "\n",
    "        # forward pass        \n",
    "        out = model(feature)\n",
    "\n",
    "        # acc\n",
    "        predicted = torch.argmax(out, dim=1)\n",
    "        equals = predicted == target\n",
    "        acc = torch.mean(equals.type(torch.FloatTensor))\n",
    "        # train_acc.append(acc.item())\n",
    "        train_acc += acc.item()\n",
    "\n",
    "        # loss\n",
    "        loss = criterion(out, target)\n",
    "        # train_loss.append(loss.item())\n",
    "        train_loss += loss.item()\n",
    "        loss.backward()\n",
    "\n",
    "        # clip grad\n",
    "        nn.utils.clip_grad_norm_(model.parameters(), grad_clip)\n",
    "\n",
    "        # update optimizer\n",
    "        optim.step()\n",
    "        \n",
    "    history['train_loss'].append(train_loss / len(trainloader))\n",
    "    history['train_acc'].append(train_acc / len(trainloader))\n",
    "\n",
    "    ###################\n",
    "    # validation mode #\n",
    "    ###################\n",
    "\n",
    "    model.eval()\n",
    "\n",
    "    val_loss = 0\n",
    "    val_acc = 0\n",
    "\n",
    "    # tqdm validation progressbar\n",
    "    # valloop = tqdm(validloader, leave=True)\n",
    "    # valloop.set_description(f'Epoch {e+1}/{epochs} | Validation')\n",
    "\n",
    "    # turn off gradient\n",
    "    with torch.no_grad():\n",
    "        # for feature, target in valloop:\n",
    "        for feature, target in validloader:\n",
    "            target = target.type(torch.LongTensor)\n",
    "            # move to device\n",
    "            feature, target = feature.to(device), target.to(device)\n",
    "\n",
    "            # forward pass\n",
    "            out = model(feature)\n",
    "\n",
    "            # acc\n",
    "            predicted = torch.argmax(out, dim=1)\n",
    "            equals = predicted == target\n",
    "            acc = torch.mean(equals.type(torch.FloatTensor))\n",
    "            # val_acc.append(acc.item())\n",
    "            val_acc += acc.item()\n",
    "\n",
    "            # loss\n",
    "            loss = criterion(out, target)\n",
    "            # val_loss.append(loss.item())\n",
    "            val_loss += loss.item()\n",
    "\n",
    "        history['val_loss'].append(val_loss / len(validloader))\n",
    "        history['val_acc'].append(val_acc / len(validloader))\n",
    "\n",
    "    # reset model mode\n",
    "    model.train()\n",
    "\n",
    "    # print epoch\n",
    "    if (e+1) % print_every == 0:\n",
    "        epochloop.write(f'Epoch {e+1}/{epochs} | Train Loss: {train_loss/len(trainloader):.4f} | Val Loss: {val_loss/len(validloader):.4f}, Acc: {val_acc/len(validloader):.4f}')\n",
    "        epochloop.update()\n",
    "        # print(f'Epoch {e+1}/{epochs} | Train Loss: {train_loss/len(trainloader):.4f} | Val Loss: {val_loss/len(validloader):.4f}, Acc: {val_acc/len(validloader):.4f}', flush=True)\n",
    "        \n",
    "    epochloop.set_postfix_str(f'Val Loss: {val_loss/len(validloader):.3f}')\n",
    "    # TODO: Add save model and early stop mechanism"
   ]
  },
  {
   "cell_type": "code",
   "execution_count": 17,
   "metadata": {},
   "outputs": [
    {
     "data": {
      "image/png": "[encoded data removed]",
      "text/plain": [
       "<Figure size 432x576 with 1 Axes>"
      ]
     },
     "metadata": {
      "needs_background": "light"
     },
     "output_type": "display_data"
    },
    {
     "data": {
      "image/png": "[encoded data removed]",
      "text/plain": [
       "<Figure size 432x576 with 1 Axes>"
      ]
     },
     "metadata": {
      "needs_background": "light"
     },
     "output_type": "display_data"
    }
   ],
   "source": [
    "import matplotlib.pyplot as plt\n",
    "import seaborn as sns\n",
    "\n",
    "plt.figure(figsize=(6, 8))\n",
    "plt.plot(range(epochs), history['train_loss'], label='Train Loss')\n",
    "plt.plot(range(epochs), history['val_loss'], label='Val Loss')\n",
    "plt.legend()\n",
    "plt.show()\n",
    "\n",
    "plt.figure(figsize=(6, 8))\n",
    "plt.plot(range(epochs), history['train_acc'], label='Train Acc')\n",
    "plt.plot(range(epochs), history['val_acc'], label='Val Acc')\n",
    "plt.legend()\n",
    "plt.show()"
   ]
  },
  {
   "cell_type": "code",
   "execution_count": 18,
   "metadata": {},
   "outputs": [
    {
     "name": "stderr",
     "output_type": "stream",
     "text": [
      "Inference...: 100%|██████████| 32/32 [00:00<00:00, 275.44it/s]"
     ]
    },
    {
     "name": "stdout",
     "output_type": "stream",
     "text": [
      "Accuracy: 0.775227865204215, Loss: 1.0514864269644022\n"
     ]
    },
    {
     "name": "stderr",
     "output_type": "stream",
     "text": [
      "\n"
     ]
    }
   ],
   "source": [
    "# test loop\n",
    "model.eval()\n",
    "\n",
    "# metrics\n",
    "test_loss = 0\n",
    "test_acc = 0\n",
    "\n",
    "testloop = tqdm(testloader, leave=True, desc='Inference...')\n",
    "with torch.no_grad():\n",
    "    for feature, target in testloop:\n",
    "        target = target.type(torch.LongTensor)\n",
    "        # move to device\n",
    "        feature, target = feature.to(device), target.to(device)\n",
    "        \n",
    "        # forward pass\n",
    "        out = model(feature)\n",
    "\n",
    "        # acc\n",
    "        predicted = torch.argmax(out, dim=1)\n",
    "        equals = predicted == target\n",
    "        acc = torch.mean(equals.type(torch.FloatTensor))        \n",
    "        test_acc += acc.item()\n",
    "\n",
    "        # loss\n",
    "        loss = criterion(out, target)        \n",
    "        test_loss += loss.item()\n",
    "\n",
    "    print(f'Accuracy: {test_acc/len(testloader)}, Loss: {test_loss/len(testloader)}')"
   ]
  }
 ],
 "metadata": {
  "kernelspec": {
   "display_name": "Python 3.8.2 64-bit",
   "language": "python",
   "name": "python3"
  },
  "language_info": {
   "codemirror_mode": {
    "name": "ipython",
    "version": 3
   },
   "file_extension": ".py",
   "mimetype": "text/x-python",
   "name": "python",
   "nbconvert_exporter": "python",
   "pygments_lexer": "ipython3",
   "version": "3.8.2 (default, Dec 21 2020, 15:06:04) \n[Clang 12.0.0 (clang-1200.0.32.29)]"
  },
  "orig_nbformat": 4,
  "vscode": {
   "interpreter": {
    "hash": "31f2aee4e71d21fbe5cf8b01ff0e069b9275f58929596ceb00d14d90e3e16cd6"
   }
  }
 },
 "nbformat": 4,
 "nbformat_minor": 2
}
