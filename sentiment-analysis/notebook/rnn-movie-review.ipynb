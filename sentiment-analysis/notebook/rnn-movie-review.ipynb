{
 "cells": [
  {
   "cell_type": "markdown",
   "metadata": {},
   "source": [
    "# IMDB Movie Review Sentiment Analysis\n",
    "\n",
    "<br>\n",
    "IMDB is an online database of information related to films, tv, series, etc. This dataset contains reviews that divided into positive and negative reviews. So, in this project we will do sentiment analysis where we asked to classify whether a review is tend to positive or negative.\n",
    "<br>\n",
    "\n",
    "Dataset Source: [Kaggle](https://www.kaggle.com/datasets/lakshmi25npathi/imdb-dataset-of-50k-movie-reviews)\n",
    "<br>\n",
    "Attributes:\n",
    "- Review\n",
    "- Sentiment"
   ]
  },
  {
   "cell_type": "code",
   "execution_count": 1,
   "metadata": {},
   "outputs": [
    {
     "name": "stdout",
     "output_type": "stream",
     "text": [
      "[nltk_data] Error loading stopwords: <urlopen error [Errno 8] nodename\n",
      "[nltk_data]     nor servname provided, or not known>\n",
      "[nltk_data] Error loading wordnet: <urlopen error [Errno 8] nodename\n",
      "[nltk_data]     nor servname provided, or not known>\n"
     ]
    }
   ],
   "source": [
    "# import libraries\n",
    "\n",
    "# data manipulation\n",
    "import pandas as pd\n",
    "import numpy as np\n",
    "\n",
    "# data visualization\n",
    "import matplotlib.pyplot as plt\n",
    "import seaborn as sns\n",
    "\n",
    "# text processing\n",
    "import re\n",
    "import nltk\n",
    "from nltk.tokenize import word_tokenize, sent_tokenize\n",
    "from nltk.corpus import stopwords\n",
    "from nltk.stem.wordnet import WordNetLemmatizer\n",
    "nltk.download('stopwords')\n",
    "nltk.download('wordnet')\n",
    "stopwords = set(stopwords.words('english'))\n",
    "\n",
    "# pytorch\n",
    "import torch\n",
    "from torch import nn\n",
    "from torch.optim import Adam\n",
    "from torch.utils.data import TensorDataset, DataLoader\n",
    "\n",
    "# sklearn\n",
    "from sklearn.metrics import classification_report, confusion_matrix\n",
    "\n",
    "# utils\n",
    "import os\n",
    "from tqdm import tqdm\n",
    "tqdm.pandas()\n",
    "from collections import Counter"
   ]
  },
  {
   "cell_type": "markdown",
   "metadata": {},
   "source": [
    "## EDA\n",
    "1. Transform label into number\n",
    "2. View data distribution (imbalance or not)\n",
    "3. View token length distribution\n",
    "4. Preview on some positive and negative reviews"
   ]
  },
  {
   "cell_type": "code",
   "execution_count": 2,
   "metadata": {},
   "outputs": [
    {
     "data": {
      "text/html": [
       "<div>\n",
       "<style scoped>\n",
       "    .dataframe tbody tr th:only-of-type {\n",
       "        vertical-align: middle;\n",
       "    }\n",
       "\n",
       "    .dataframe tbody tr th {\n",
       "        vertical-align: top;\n",
       "    }\n",
       "\n",
       "    .dataframe thead th {\n",
       "        text-align: right;\n",
       "    }\n",
       "</style>\n",
       "<table border=\"1\" class=\"dataframe\">\n",
       "  <thead>\n",
       "    <tr style=\"text-align: right;\">\n",
       "      <th></th>\n",
       "      <th>review</th>\n",
       "      <th>sentiment</th>\n",
       "    </tr>\n",
       "  </thead>\n",
       "  <tbody>\n",
       "    <tr>\n",
       "      <th>0</th>\n",
       "      <td>One of the other reviewers has mentioned that ...</td>\n",
       "      <td>positive</td>\n",
       "    </tr>\n",
       "    <tr>\n",
       "      <th>1</th>\n",
       "      <td>A wonderful little production. &lt;br /&gt;&lt;br /&gt;The...</td>\n",
       "      <td>positive</td>\n",
       "    </tr>\n",
       "    <tr>\n",
       "      <th>2</th>\n",
       "      <td>I thought this was a wonderful way to spend ti...</td>\n",
       "      <td>positive</td>\n",
       "    </tr>\n",
       "    <tr>\n",
       "      <th>3</th>\n",
       "      <td>Basically there's a family where a little boy ...</td>\n",
       "      <td>negative</td>\n",
       "    </tr>\n",
       "    <tr>\n",
       "      <th>4</th>\n",
       "      <td>Petter Mattei's \"Love in the Time of Money\" is...</td>\n",
       "      <td>positive</td>\n",
       "    </tr>\n",
       "  </tbody>\n",
       "</table>\n",
       "</div>"
      ],
      "text/plain": [
       "                                              review sentiment\n",
       "0  One of the other reviewers has mentioned that ...  positive\n",
       "1  A wonderful little production. <br /><br />The...  positive\n",
       "2  I thought this was a wonderful way to spend ti...  positive\n",
       "3  Basically there's a family where a little boy ...  negative\n",
       "4  Petter Mattei's \"Love in the Time of Money\" is...  positive"
      ]
     },
     "execution_count": 2,
     "metadata": {},
     "output_type": "execute_result"
    }
   ],
   "source": [
    "# read data\n",
    "data = pd.read_csv('../data/imdb.csv')\n",
    "data.head()"
   ]
  },
  {
   "cell_type": "markdown",
   "metadata": {},
   "source": [
    "As we can see, we have sentiment label in text format. In this case, we need to transform these labels into number.\n",
    "<br><br>\n",
    "We will define `positive` as `1` and `negative` as `0`."
   ]
  },
  {
   "cell_type": "code",
   "execution_count": 3,
   "metadata": {},
   "outputs": [
    {
     "name": "stderr",
     "output_type": "stream",
     "text": [
      "100%|██████████| 50000/50000 [00:00<00:00, 692520.20it/s]\n"
     ]
    },
    {
     "data": {
      "text/html": [
       "<div>\n",
       "<style scoped>\n",
       "    .dataframe tbody tr th:only-of-type {\n",
       "        vertical-align: middle;\n",
       "    }\n",
       "\n",
       "    .dataframe tbody tr th {\n",
       "        vertical-align: top;\n",
       "    }\n",
       "\n",
       "    .dataframe thead th {\n",
       "        text-align: right;\n",
       "    }\n",
       "</style>\n",
       "<table border=\"1\" class=\"dataframe\">\n",
       "  <thead>\n",
       "    <tr style=\"text-align: right;\">\n",
       "      <th></th>\n",
       "      <th>review</th>\n",
       "      <th>sentiment</th>\n",
       "      <th>label</th>\n",
       "    </tr>\n",
       "  </thead>\n",
       "  <tbody>\n",
       "    <tr>\n",
       "      <th>0</th>\n",
       "      <td>One of the other reviewers has mentioned that ...</td>\n",
       "      <td>positive</td>\n",
       "      <td>1</td>\n",
       "    </tr>\n",
       "    <tr>\n",
       "      <th>1</th>\n",
       "      <td>A wonderful little production. &lt;br /&gt;&lt;br /&gt;The...</td>\n",
       "      <td>positive</td>\n",
       "      <td>1</td>\n",
       "    </tr>\n",
       "    <tr>\n",
       "      <th>2</th>\n",
       "      <td>I thought this was a wonderful way to spend ti...</td>\n",
       "      <td>positive</td>\n",
       "      <td>1</td>\n",
       "    </tr>\n",
       "    <tr>\n",
       "      <th>3</th>\n",
       "      <td>Basically there's a family where a little boy ...</td>\n",
       "      <td>negative</td>\n",
       "      <td>0</td>\n",
       "    </tr>\n",
       "    <tr>\n",
       "      <th>4</th>\n",
       "      <td>Petter Mattei's \"Love in the Time of Money\" is...</td>\n",
       "      <td>positive</td>\n",
       "      <td>1</td>\n",
       "    </tr>\n",
       "  </tbody>\n",
       "</table>\n",
       "</div>"
      ],
      "text/plain": [
       "                                              review sentiment  label\n",
       "0  One of the other reviewers has mentioned that ...  positive      1\n",
       "1  A wonderful little production. <br /><br />The...  positive      1\n",
       "2  I thought this was a wonderful way to spend ti...  positive      1\n",
       "3  Basically there's a family where a little boy ...  negative      0\n",
       "4  Petter Mattei's \"Love in the Time of Money\" is...  positive      1"
      ]
     },
     "execution_count": 3,
     "metadata": {},
     "output_type": "execute_result"
    }
   ],
   "source": [
    "def transform_label(label):\n",
    "    return 1 if label == 'positive' else 0\n",
    "\n",
    "data['label'] = data['sentiment'].progress_apply(transform_label)\n",
    "data.head()"
   ]
  },
  {
   "cell_type": "markdown",
   "metadata": {},
   "source": [
    "Let's see if we have an imbalance case by looking at total dataset of each positive and negative classes"
   ]
  },
  {
   "cell_type": "code",
   "execution_count": 4,
   "metadata": {},
   "outputs": [
    {
     "data": {
      "text/plain": [
       "positive    25000\n",
       "negative    25000\n",
       "Name: sentiment, dtype: int64"
      ]
     },
     "execution_count": 4,
     "metadata": {},
     "output_type": "execute_result"
    }
   ],
   "source": [
    "data.sentiment.value_counts()"
   ]
  },
  {
   "cell_type": "markdown",
   "metadata": {},
   "source": [
    "Seems we have a good enough dataset. Here we got balance dataset with 25K for each labels."
   ]
  },
  {
   "cell_type": "markdown",
   "metadata": {},
   "source": [
    "Now, we want to see token distribution in our dataset. We want to see token distribution for each positive and negative labels. We will split sentences by whitespaces and count total tokens by `len()` function."
   ]
  },
  {
   "cell_type": "code",
   "execution_count": 5,
   "metadata": {},
   "outputs": [
    {
     "name": "stderr",
     "output_type": "stream",
     "text": [
      "100%|██████████| 50000/50000 [00:00<00:00, 53465.54it/s]\n"
     ]
    }
   ],
   "source": [
    "data['token_length'] = data.review.progress_apply(lambda x: len(x.split()))"
   ]
  },
  {
   "cell_type": "code",
   "execution_count": 6,
   "metadata": {},
   "outputs": [
    {
     "data": {
      "text/plain": [
       "count    25000.000000\n",
       "mean       232.849320\n",
       "std        177.497046\n",
       "min         10.000000\n",
       "25%        125.000000\n",
       "50%        172.000000\n",
       "75%        284.000000\n",
       "max       2470.000000\n",
       "Name: token_length, dtype: float64"
      ]
     },
     "execution_count": 6,
     "metadata": {},
     "output_type": "execute_result"
    }
   ],
   "source": [
    "data_pos = data[data['label'] == 1]\n",
    "data_pos['token_length'].describe()"
   ]
  },
  {
   "cell_type": "markdown",
   "metadata": {},
   "source": [
    "For positive reviews, we have maximum token 2470 and minimum token 10. While the average token is 232."
   ]
  },
  {
   "cell_type": "code",
   "execution_count": 7,
   "metadata": {},
   "outputs": [
    {
     "data": {
      "text/plain": [
       "count    25000.000000\n",
       "mean       229.464560\n",
       "std        164.947795\n",
       "min          4.000000\n",
       "25%        128.000000\n",
       "50%        174.000000\n",
       "75%        278.000000\n",
       "max       1522.000000\n",
       "Name: token_length, dtype: float64"
      ]
     },
     "execution_count": 7,
     "metadata": {},
     "output_type": "execute_result"
    }
   ],
   "source": [
    "data_neg = data[data['label'] == 0]\n",
    "data_neg['token_length'].describe()"
   ]
  },
  {
   "cell_type": "markdown",
   "metadata": {},
   "source": [
    "And for negative reviews, we have maximum and minimum token respectively 1522 and 4. While the average token is 229."
   ]
  },
  {
   "cell_type": "markdown",
   "metadata": {},
   "source": [
    "According to both descriptive statistics, both has identical maximum, minimum, and average token length."
   ]
  },
  {
   "cell_type": "code",
   "execution_count": 8,
   "metadata": {},
   "outputs": [
    {
     "data": {
      "text/plain": [
       "<Figure size 360x576 with 0 Axes>"
      ]
     },
     "metadata": {},
     "output_type": "display_data"
    },
    {
     "data": {
      "image/png": "[encoded data removed]",
      "text/plain": [
       "<Figure size 360x360 with 1 Axes>"
      ]
     },
     "metadata": {
      "needs_background": "light"
     },
     "output_type": "display_data"
    }
   ],
   "source": [
    "plt.figure(figsize=(5, 8))\n",
    "sns.displot(data_pos, x='token_length')\n",
    "plt.title('Positive Token Length Distribution')\n",
    "plt.show()"
   ]
  },
  {
   "cell_type": "code",
   "execution_count": 9,
   "metadata": {},
   "outputs": [
    {
     "data": {
      "text/plain": [
       "<Figure size 360x576 with 0 Axes>"
      ]
     },
     "metadata": {},
     "output_type": "display_data"
    },
    {
     "data": {
      "image/png": "[encoded data removed]",
      "text/plain": [
       "<Figure size 360x360 with 1 Axes>"
      ]
     },
     "metadata": {
      "needs_background": "light"
     },
     "output_type": "display_data"
    }
   ],
   "source": [
    "plt.figure(figsize=(5, 8))\n",
    "sns.displot(data_neg, x='token_length')\n",
    "plt.title('Negative Token Length Distribution')\n",
    "plt.show()"
   ]
  },
  {
   "cell_type": "markdown",
   "metadata": {},
   "source": [
    "Now let's see some reviews from positive and negative reviews."
   ]
  },
  {
   "cell_type": "code",
   "execution_count": 11,
   "metadata": {},
   "outputs": [
    {
     "name": "stdout",
     "output_type": "stream",
     "text": [
      "Positive\n",
      "Brilliant and moving performances by Tom Courtenay and Peter Finch.\n",
      "\n",
      "Negative\n",
      "Primary plot!Primary direction!Poor interpretation.\n"
     ]
    }
   ],
   "source": [
    "# see most minimum length token\n",
    "print('Positive')\n",
    "print(data_pos[data_pos['token_length'] == data_pos['token_length'].min()]['review'].item())\n",
    "print()\n",
    "print('Negative')\n",
    "print(data_neg[data_neg['token_length'] == data_neg['token_length'].min()]['review'].item())"
   ]
  },
  {
   "cell_type": "markdown",
   "metadata": {},
   "source": [
    "## Clean and Preprocess\n",
    "1. Create text cleaning method pipeline\n",
    "2. Create text preprocessing method pipeline\n",
    "3. Save preprocessed data as new csv file"
   ]
  },
  {
   "cell_type": "markdown",
   "metadata": {},
   "source": [
    "Here we will define text cleaning pipeline which consist of several methods below:\n",
    "1. Remove links\n",
    "2. Remove punctuations, but here we exclude dot (.), comma (,), hyphen (-), exclamation (!), and question mark(?).\n",
    "3. Remove HTML tags\n",
    "4. Space between punctuation, because we want to treat some excluded punctuations as individual token\n",
    "5. Remove numbers\n",
    "6. Remove additional whitespaces\n",
    "7. Remove nonascii characters\n",
    "8. Remove emoji"
   ]
  },
  {
   "cell_type": "code",
   "execution_count": 12,
   "metadata": {},
   "outputs": [],
   "source": [
    "# text cleaning\n",
    "\n",
    "def rm_link(text):\n",
    "    return re.sub(r'https?://\\S+|www\\.\\S+', '', text)\n",
    "\n",
    "# handle case like \"shut up okay?Im only 10 years old\"\n",
    "# become \"shut up okay Im only 10 years old\"\n",
    "def rm_punct2(text):\n",
    "    # return re.sub(r'[\\!\\\"\\#\\$\\%\\&\\'\\(\\)\\*\\+\\,\\-\\.\\/\\:\\;\\<\\=\\>\\?\\@\\[\\\\\\]\\^\\_\\`\\{\\|\\}\\~]', ' ', text)\n",
    "    return re.sub(r'[\\\"\\#\\$\\%\\&\\'\\(\\)\\*\\+\\/\\:\\;\\<\\=\\>\\@\\[\\\\\\]\\^\\_\\`\\{\\|\\}\\~]', ' ', text)\n",
    "\n",
    "def rm_html(text):\n",
    "    return re.sub(r'<[^>]+>', '', text)\n",
    "\n",
    "def space_bt_punct(text):\n",
    "    pattern = r'([.,!?-])'\n",
    "    s = re.sub(pattern, r' \\1 ', text)     # add whitespaces between punctuation\n",
    "    s = re.sub(r'\\s{2,}', ' ', s)        # remove double whitespaces    \n",
    "    return s\n",
    "\n",
    "def rm_number(text):\n",
    "    return re.sub(r'\\d+', '', text)\n",
    "\n",
    "def rm_whitespaces(text):\n",
    "    return re.sub(r' +', ' ', text)\n",
    "\n",
    "def rm_nonascii(text):\n",
    "    return re.sub(r'[^\\x00-\\x7f]', r'', text)\n",
    "\n",
    "def rm_emoji(text):\n",
    "    emojis = re.compile(\n",
    "        '['\n",
    "        u'\\U0001F600-\\U0001F64F'  # emoticons\n",
    "        u'\\U0001F300-\\U0001F5FF'  # symbols & pictographs\n",
    "        u'\\U0001F680-\\U0001F6FF'  # transport & map symbols\n",
    "        u'\\U0001F1E0-\\U0001F1FF'  # flags (iOS)\n",
    "        u'\\U00002702-\\U000027B0'\n",
    "        u'\\U000024C2-\\U0001F251'\n",
    "        ']+',\n",
    "        flags=re.UNICODE\n",
    "    )\n",
    "    return emojis.sub(r'', text)\n",
    "\n",
    "def spell_correction(text):\n",
    "    return re.sub(r'(.)\\1+', r'\\1\\1', text)\n",
    "\n",
    "def clean_pipeline(text):    \n",
    "    no_link = rm_link(text)\n",
    "    no_html = rm_html(no_link)\n",
    "    space_punct = space_bt_punct(no_html)\n",
    "    no_punct = rm_punct2(space_punct)\n",
    "    no_number = rm_number(no_punct)\n",
    "    no_whitespaces = rm_whitespaces(no_number)\n",
    "    no_nonasci = rm_nonascii(no_whitespaces)\n",
    "    no_emoji = rm_emoji(no_nonasci)\n",
    "    spell_corrected = spell_correction(no_emoji)\n",
    "    return spell_corrected"
   ]
  },
  {
   "cell_type": "markdown",
   "metadata": {},
   "source": [
    "Now, after clean the texts we will proceed to preprocessing methods. Here we will define several preprocessing methods as follows:\n",
    "1. Tokenize, where we split the text by words using `nltk` package\n",
    "2. Remove stopwords. Here we will use English stopwords provided by `nltk`\n",
    "3. Lemmatization, where we transform words into its original form by removing their suffix"
   ]
  },
  {
   "cell_type": "code",
   "execution_count": 13,
   "metadata": {},
   "outputs": [],
   "source": [
    "# preprocessing\n",
    "def tokenize(text):\n",
    "    return word_tokenize(text)\n",
    "\n",
    "def rm_stopwords(text):\n",
    "    return [i for i in text if i not in stopwords]\n",
    "\n",
    "def lemmatize(text):\n",
    "    lemmatizer = WordNetLemmatizer()    \n",
    "    lemmas = [lemmatizer.lemmatize(t) for t in text]\n",
    "    # make sure lemmas does not contains sotpwords\n",
    "    return rm_stopwords(lemmas)\n",
    "\n",
    "def preprocess_pipeline(text):\n",
    "    tokens = tokenize(text)\n",
    "    no_stopwords = rm_stopwords(tokens)\n",
    "    lemmas = lemmatize(no_stopwords)\n",
    "    return ' '.join(lemmas)"
   ]
  },
  {
   "cell_type": "code",
   "execution_count": 14,
   "metadata": {},
   "outputs": [
    {
     "name": "stderr",
     "output_type": "stream",
     "text": [
      "100%|██████████| 50000/50000 [00:26<00:00, 1894.80it/s]\n",
      "100%|██████████| 50000/50000 [02:59<00:00, 277.87it/s]\n"
     ]
    },
    {
     "data": {
      "text/html": [
       "<div>\n",
       "<style scoped>\n",
       "    .dataframe tbody tr th:only-of-type {\n",
       "        vertical-align: middle;\n",
       "    }\n",
       "\n",
       "    .dataframe tbody tr th {\n",
       "        vertical-align: top;\n",
       "    }\n",
       "\n",
       "    .dataframe thead th {\n",
       "        text-align: right;\n",
       "    }\n",
       "</style>\n",
       "<table border=\"1\" class=\"dataframe\">\n",
       "  <thead>\n",
       "    <tr style=\"text-align: right;\">\n",
       "      <th></th>\n",
       "      <th>review</th>\n",
       "      <th>sentiment</th>\n",
       "      <th>label</th>\n",
       "      <th>token_length</th>\n",
       "      <th>clean</th>\n",
       "      <th>processed</th>\n",
       "    </tr>\n",
       "  </thead>\n",
       "  <tbody>\n",
       "    <tr>\n",
       "      <th>0</th>\n",
       "      <td>One of the other reviewers has mentioned that ...</td>\n",
       "      <td>positive</td>\n",
       "      <td>1</td>\n",
       "      <td>307</td>\n",
       "      <td>One of the other reviewers has mentioned that ...</td>\n",
       "      <td>One reviewer mentioned watching Oz episode hoo...</td>\n",
       "    </tr>\n",
       "    <tr>\n",
       "      <th>1</th>\n",
       "      <td>A wonderful little production. &lt;br /&gt;&lt;br /&gt;The...</td>\n",
       "      <td>positive</td>\n",
       "      <td>1</td>\n",
       "      <td>162</td>\n",
       "      <td>A wonderful little production . The filming te...</td>\n",
       "      <td>A wonderful little production . The filming te...</td>\n",
       "    </tr>\n",
       "    <tr>\n",
       "      <th>2</th>\n",
       "      <td>I thought this was a wonderful way to spend ti...</td>\n",
       "      <td>positive</td>\n",
       "      <td>1</td>\n",
       "      <td>166</td>\n",
       "      <td>I thought this was a wonderful way to spend ti...</td>\n",
       "      <td>I thought wonderful way spend time hot summer ...</td>\n",
       "    </tr>\n",
       "    <tr>\n",
       "      <th>3</th>\n",
       "      <td>Basically there's a family where a little boy ...</td>\n",
       "      <td>negative</td>\n",
       "      <td>0</td>\n",
       "      <td>138</td>\n",
       "      <td>Basically there s a family where a little boy ...</td>\n",
       "      <td>Basically family little boy Jake think zombie ...</td>\n",
       "    </tr>\n",
       "    <tr>\n",
       "      <th>4</th>\n",
       "      <td>Petter Mattei's \"Love in the Time of Money\" is...</td>\n",
       "      <td>positive</td>\n",
       "      <td>1</td>\n",
       "      <td>230</td>\n",
       "      <td>Petter Mattei s Love in the Time of Money is a...</td>\n",
       "      <td>Petter Mattei Love Time Money visually stunnin...</td>\n",
       "    </tr>\n",
       "  </tbody>\n",
       "</table>\n",
       "</div>"
      ],
      "text/plain": [
       "                                              review sentiment  label  \\\n",
       "0  One of the other reviewers has mentioned that ...  positive      1   \n",
       "1  A wonderful little production. <br /><br />The...  positive      1   \n",
       "2  I thought this was a wonderful way to spend ti...  positive      1   \n",
       "3  Basically there's a family where a little boy ...  negative      0   \n",
       "4  Petter Mattei's \"Love in the Time of Money\" is...  positive      1   \n",
       "\n",
       "   token_length                                              clean  \\\n",
       "0           307  One of the other reviewers has mentioned that ...   \n",
       "1           162  A wonderful little production . The filming te...   \n",
       "2           166  I thought this was a wonderful way to spend ti...   \n",
       "3           138  Basically there s a family where a little boy ...   \n",
       "4           230  Petter Mattei s Love in the Time of Money is a...   \n",
       "\n",
       "                                           processed  \n",
       "0  One reviewer mentioned watching Oz episode hoo...  \n",
       "1  A wonderful little production . The filming te...  \n",
       "2  I thought wonderful way spend time hot summer ...  \n",
       "3  Basically family little boy Jake think zombie ...  \n",
       "4  Petter Mattei Love Time Money visually stunnin...  "
      ]
     },
     "execution_count": 14,
     "metadata": {},
     "output_type": "execute_result"
    }
   ],
   "source": [
    "data['clean'] = data['review'].progress_apply(clean_pipeline)\n",
    "data['processed'] = data['clean'].progress_apply(preprocess_pipeline)\n",
    "data.head()"
   ]
  },
  {
   "cell_type": "markdown",
   "metadata": {},
   "source": [
    "Finally, after doing data preprocessing, we save our processed dataset into a new csv file for further usage."
   ]
  },
  {
   "cell_type": "code",
   "execution_count": 15,
   "metadata": {},
   "outputs": [],
   "source": [
    "# keep only processed and label columns\n",
    "data[['processed', 'label']].to_csv('../data/imdb_processed.csv', index=False, header=True)"
   ]
  },
  {
   "cell_type": "markdown",
   "metadata": {},
   "source": [
    "## Prepare Dataset\n",
    "<br>\n",
    "By now we already have our processed data. Before we proceed to classification step, we need to transform our text into vector representations. And in order to do that, we need to build a vocabulary that maps each token to ids.\n",
    "<br><br>\n",
    "Here are the following steps that we will do:\n",
    "\n",
    "1. Build a vocabulary\n",
    "2. Encode reviews\n",
    "3. Pad short reviews and trim long reviews\n",
    "4. Make train test val split\n",
    "5. Prepare dataloaders and batches"
   ]
  },
  {
   "cell_type": "code",
   "execution_count": 2,
   "metadata": {},
   "outputs": [
    {
     "name": "stdout",
     "output_type": "stream",
     "text": [
      "One reviewer mentioned watching Oz episode hooked . They right , exactly happened . The first thing struck Oz brutality unflinching scene violence , set right word GO . Trust , show faint hearted timid . This show pull punch regard drug , sex violence . Its hardcore , classic use word . It called OZ nickname given Oswald Maximum Security State Penitentary . It focus mainly Emerald City , experimental section prison cell glass front face inwards , privacy high agenda . Em City home many . . Aryans , Muslims , gangsta , Latinos , Christians , Italians , Irish . . . . scuffle , death stare , dodgy dealing shady agreement never far away . I would say main appeal show due fact go show dare . Forget pretty picture painted mainstream audience , forget charm , forget romance . . . OZ mess around . The first episode I ever saw struck nasty surreal , I say I ready , I watched , I developed taste Oz , got accustomed high level graphic violence . Not violence , injustice crooked guard sold nickel , inmate kill order get away , well mannered , middle class inmate turned prison bitch due lack street skill prison experience Watching Oz , may become comfortable uncomfortable viewing . . . . thats get touch darker side .\n",
      "Label: 1\n",
      "\n",
      "\n",
      "A wonderful little production . The filming technique unassuming - old - time - BBC fashion give comforting , sometimes discomforting , sense realism entire piece . The actor extremely well chosen - Michael Sheen got polari voice pat ! You truly see seamless editing guided reference Williams diary entry , well worth watching terrificly written performed piece . A masterful production one great master comedy life . The realism really come home little thing fantasy guard , rather use traditional dream technique remains solid disappears . It play knowledge sens , particularly scene concerning Orton Halliwell set particularly flat Halliwell mural decorating every surface terribly well done .\n",
      "Label: 1\n",
      "\n",
      "\n"
     ]
    }
   ],
   "source": [
    "# read processed data\n",
    "data = pd.read_csv('../data/imdb_processed.csv')\n",
    "\n",
    "for row in data[:2].iterrows():\n",
    "    print(row[1]['processed'])\n",
    "    print(f'Label: {row[1][\"label\"]}')    \n",
    "    print('\\n')"
   ]
  },
  {
   "cell_type": "markdown",
   "metadata": {},
   "source": [
    "Now, before we start build our vocabulary we need to gather all reviews into a single string variable. Then, we will split the whole reviews by whitespaces."
   ]
  },
  {
   "cell_type": "code",
   "execution_count": 3,
   "metadata": {},
   "outputs": [
    {
     "data": {
      "text/plain": [
       "['One',\n",
       " 'reviewer',\n",
       " 'mentioned',\n",
       " 'watching',\n",
       " 'Oz',\n",
       " 'episode',\n",
       " 'hooked',\n",
       " '.',\n",
       " 'They',\n",
       " 'right']"
      ]
     },
     "execution_count": 3,
     "metadata": {},
     "output_type": "execute_result"
    }
   ],
   "source": [
    "# get all processed reviews\n",
    "reviews = data.processed.values\n",
    "# merge into single variable, separated by whitespaces\n",
    "words = ' '.join(reviews)\n",
    "# obtain list of words\n",
    "words = words.split()\n",
    "\n",
    "# check our list\n",
    "words[:10]"
   ]
  },
  {
   "cell_type": "markdown",
   "metadata": {},
   "source": [
    "Here we can utilize python built-in library `Counter` to easily get unique words in reviews. We then start indexing our unique words from 1, because we will use index 0 for padding `<PAD>` token."
   ]
  },
  {
   "cell_type": "code",
   "execution_count": 4,
   "metadata": {},
   "outputs": [],
   "source": [
    "# build vocabulary\n",
    "counter = Counter(words)\n",
    "vocab = sorted(counter, key=counter.get, reverse=True)\n",
    "int2word = dict(enumerate(vocab, 1))\n",
    "int2word[0] = '<PAD>'\n",
    "word2int = {word: id for id, word in int2word.items()}"
   ]
  },
  {
   "cell_type": "markdown",
   "metadata": {},
   "source": [
    "Now, let's encode our reviews by converting each token into corresponding index in vocabulary that we just created."
   ]
  },
  {
   "cell_type": "code",
   "execution_count": 5,
   "metadata": {},
   "outputs": [
    {
     "name": "stderr",
     "output_type": "stream",
     "text": [
      "100%|██████████| 50000/50000 [00:03<00:00, 12710.18it/s]"
     ]
    },
    {
     "name": "stdout",
     "output_type": "stream",
     "text": [
      "[191, 1083, 930, 81, 3724]\n",
      "[47, 328, 59, 244, 1]\n",
      "[3, 95, 328, 30, 1041]\n",
      "[2408, 136, 59, 241, 3230]\n",
      "[70982, 10566, 1081, 1941, 7538]\n"
     ]
    },
    {
     "name": "stderr",
     "output_type": "stream",
     "text": [
      "\n"
     ]
    }
   ],
   "source": [
    "# encode words\n",
    "reviews_enc = [[word2int[word] for word in review.split()] for review in tqdm(reviews)]\n",
    "\n",
    "# print first-10 words of first 5 reviews\n",
    "for i in range(5):\n",
    "    print(reviews_enc[i][:5])"
   ]
  },
  {
   "cell_type": "markdown",
   "metadata": {},
   "source": [
    "Great! Now we have successfully transform token to corresponding id. \n",
    "<br><br>\n",
    "But now we got another problem. As we know, the length review sometimes is different. So, first we need to define our maximum sequence length. Then, for each reviews that shorter than our predefined sequence length we will add `padding` token. Otherwise, we will `trim` the reviews."
   ]
  },
  {
   "cell_type": "code",
   "execution_count": 6,
   "metadata": {},
   "outputs": [
    {
     "data": {
      "text/plain": [
       "array([[ 191, 1083,  930,   81, 3724,  186, 3030,    1,  118,  114],\n",
       "       [   0,    0,    0,    0,    0,    0,    0,    0,    0,    0],\n",
       "       [   0,    0,    0,    0,    0,    0,    0,    0,    0,    0],\n",
       "       [   0,    0,    0,    0,    0,    0,    0,    0,    0,    0],\n",
       "       [   0,    0,    0,    0,    0,    0,    0,    0,    0,    0],\n",
       "       [   0,    0,    0,    0,    0,    0,    0,    0,    0,    0],\n",
       "       [   0,    0,    0,    0,    0,    0,    0,    0,    0,    0],\n",
       "       [   0,    0,    0,    0,    0,    0,    0,    0,    0,    0],\n",
       "       [   0,    0,    0,    0,    0,    0,    0,    0,    0,    0],\n",
       "       [   0,    0,    0,    0,    0,    0,    0,    0,    0,    0]])"
      ]
     },
     "execution_count": 6,
     "metadata": {},
     "output_type": "execute_result"
    }
   ],
   "source": [
    "# padding sequences\n",
    "\n",
    "def pad_features(reviews, pad_id, seq_length=128):\n",
    "    # features = np.zeros((len(reviews), seq_length), dtype=int)\n",
    "    features = np.full((len(reviews), seq_length), pad_id, dtype=int)\n",
    "\n",
    "    for i, row in enumerate(reviews):\n",
    "        # if seq_length < len(row) then review will be trimmed\n",
    "        features[i, -len(row):] = np.array(row)[:seq_length]\n",
    "\n",
    "    return features\n",
    "\n",
    "seq_length = 200\n",
    "features = pad_features(reviews_enc, pad_id=word2int['<PAD>'], seq_length=seq_length)\n",
    "\n",
    "assert len(features) == len(reviews_enc)\n",
    "assert len(features[0]) == seq_length\n",
    "\n",
    "features[:10, :10]"
   ]
  },
  {
   "cell_type": "code",
   "execution_count": 7,
   "metadata": {},
   "outputs": [
    {
     "data": {
      "text/plain": [
       "array([1, 1, 1, ..., 0, 0, 0], dtype=int64)"
      ]
     },
     "execution_count": 7,
     "metadata": {},
     "output_type": "execute_result"
    }
   ],
   "source": [
    "# get labels as numpy\n",
    "labels = data.label.to_numpy()\n",
    "labels"
   ]
  },
  {
   "cell_type": "markdown",
   "metadata": {},
   "source": [
    "*Train test split!*\n",
    "<br><br>\n",
    "After we encode and `pad` / `trim` our dataset, it's time to make `train`, `validation`, and `test` set! Here we will try to implement train test split by ourselves.\n",
    "<br><br><br>\n",
    "So, here is the scenario: first we divide our dataset into 2 parts, `train` and `test` set. Then, we divide `train` again into `train` and `validation`. And of course we need to define the  `ratio` before we split our dataset."
   ]
  },
  {
   "cell_type": "code",
   "execution_count": 8,
   "metadata": {},
   "outputs": [
    {
     "name": "stdout",
     "output_type": "stream",
     "text": [
      "Feature Shapes:\n",
      "===============\n",
      "Train set: (35000, 200)\n",
      "Validation set: (7500, 200)\n",
      "Test set: (7500, 200)\n"
     ]
    }
   ],
   "source": [
    "# train test split\n",
    "train_size = .7     # we will use 80% of whole data as train set\n",
    "val_size = .5       # and we will use 50% of test set as validation set\n",
    "\n",
    "# make train set\n",
    "split_id = int(len(features) * train_size)\n",
    "train_x, remain_x = features[:split_id], features[split_id:]\n",
    "train_y, remain_y = labels[:split_id], labels[split_id:]\n",
    "\n",
    "# make val and test set\n",
    "split_val_id = int(len(remain_x) * val_size)\n",
    "val_x, test_x = remain_x[:split_val_id], remain_x[split_val_id:]\n",
    "val_y, test_y = remain_y[:split_val_id], remain_y[split_val_id:]\n",
    "\n",
    "# print out the shape\n",
    "print('Feature Shapes:')\n",
    "print('===============')\n",
    "print('Train set: {}'.format(train_x.shape))\n",
    "print('Validation set: {}'.format(val_x.shape))\n",
    "print('Test set: {}'.format(test_x.shape))"
   ]
  },
  {
   "cell_type": "code",
   "execution_count": 9,
   "metadata": {},
   "outputs": [
    {
     "name": "stdout",
     "output_type": "stream",
     "text": [
      "17510 17490\n",
      "3753 3747\n",
      "3737 3763\n"
     ]
    }
   ],
   "source": [
    "print(len(train_y[train_y == 0]), len(train_y[train_y == 1]))\n",
    "print(len(val_y[val_y == 0]), len(val_y[val_y == 1]))\n",
    "print(len(test_y[test_y == 0]), len(test_y[test_y == 1]))"
   ]
  },
  {
   "cell_type": "markdown",
   "metadata": {},
   "source": [
    "Finally, we will pass our dataset into `TensorDataset` and then `DataLoader`. Remember that we have already split our dataset into train, test, and validation set. Hence, we need to create loaders for each set. And to do that, we need to convert our numpy formatted dataset into `TensorDataset`. Then, we need to specify our `batch_size` into `DataLoader` and pass our tensor dataset. Don't forget to give parameter `shuffle=True` to prevent our model in learning in chronological orders."
   ]
  },
  {
   "cell_type": "code",
   "execution_count": 10,
   "metadata": {},
   "outputs": [],
   "source": [
    "# define batch size\n",
    "batch_size = 32\n",
    "\n",
    "# create tensor datasets\n",
    "trainset = TensorDataset(torch.from_numpy(train_x), torch.from_numpy(train_y))\n",
    "validset = TensorDataset(torch.from_numpy(val_x), torch.from_numpy(val_y))\n",
    "testset = TensorDataset(torch.from_numpy(test_x), torch.from_numpy(test_y))\n",
    "\n",
    "# create dataloaders\n",
    "trainloader = DataLoader(trainset, shuffle=True, batch_size=batch_size)\n",
    "valloader = DataLoader(validset, shuffle=True, batch_size=batch_size)\n",
    "testloader = DataLoader(testset, shuffle=True, batch_size=batch_size)"
   ]
  },
  {
   "cell_type": "markdown",
   "metadata": {},
   "source": [
    "Let's have a look to our just created loader.\n",
    "<br>\n",
    "Here we expecting the shape of `X` is **(batch_size, sequence_length)**, while the shape of `Y` is **(batch_size)**"
   ]
  },
  {
   "cell_type": "code",
   "execution_count": 11,
   "metadata": {},
   "outputs": [
    {
     "name": "stdout",
     "output_type": "stream",
     "text": [
      "Sample batch size:  torch.Size([32, 200])\n",
      "Sample batch input: \n",
      " tensor([[    0,     0,     0,  ...,  2464,  4516,     1],\n",
      "        [    0,     0,     0,  ..., 49651,  1256,     9],\n",
      "        [    0,     0,     0,  ...,   224,   155,     1],\n",
      "        ...,\n",
      "        [    0,     0,     0,  ...,  9066,   546,  2618],\n",
      "        [    0,     0,     0,  ...,    35,  1518,     1],\n",
      "        [    0,     0,     0,  ...,  4567,   793,     1]], dtype=torch.int32)\n",
      "\n",
      "Sample label size:  torch.Size([32])\n",
      "Sample label input: \n",
      " tensor([1, 1, 1, 0, 1, 1, 1, 0, 0, 0, 0, 0, 0, 0, 0, 0, 0, 0, 0, 1, 1, 0, 0, 0,\n",
      "        1, 1, 1, 0, 0, 1, 0, 0])\n"
     ]
    }
   ],
   "source": [
    "# check our batches\n",
    "dataiter = iter(trainloader)\n",
    "x, y = dataiter.next()\n",
    "\n",
    "print('Sample batch size: ', x.size())   # batch_size, seq_length\n",
    "print('Sample batch input: \\n', x)\n",
    "print()\n",
    "print('Sample label size: ', y.size())   # batch_size\n",
    "print('Sample label input: \\n', y)"
   ]
  },
  {
   "cell_type": "markdown",
   "metadata": {},
   "source": [
    "## Modelling\n",
    "\n",
    "We are arrived on the most interesting part of ML project, that is modelling *yeay*  🥳\n",
    "<br>\n",
    "In this project, we will use LSTM (Long Short-Term Memory) as our model. I decide to use this model because in text data, sometimes each word has relations with its next or previous words. Hence, we can treat them as sequential case and since most traditional ML seems does not learning text sequentially, we can use RNN-based model as a solution.\n",
    "\n",
    "<br>\n",
    "But before we talk further about this model, it's better for you to see the RNN-based model illustration below."
   ]
  },
  {
   "cell_type": "markdown",
   "metadata": {},
   "source": [
    "![RNN-Relations](images/diags.jpeg)"
   ]
  },
  {
   "cell_type": "markdown",
   "metadata": {},
   "source": [
    "So, the RNN-based models can be used for many purposes. But in this case, we will only talk about `many-to-one` use case. Because, the real process behind is we are feeding word by word to the network sequentially, and each time we feed the words we will get `output vector` and `hidden_state`; where we are only passing `hidden_state` into next sequences and ignore the `output vector`. We will take only the `output vector` from the very last sequence, because it contains all the *summary* of the whole words before.\n",
    "<br><br>\n",
    "After taking the `output vector` from the last sequence, we will feed it to **Sigmoid** layer, because it will *squash* values in the output vector into 2 classes; which is *positive* and *negative* in this case. To see how Sigmoid layer actually work, please see the illustration below."
   ]
  },
  {
   "cell_type": "markdown",
   "metadata": {},
   "source": [
    "![Sigmoid](images/Sigmoid-function.png)"
   ]
  },
  {
   "cell_type": "markdown",
   "metadata": {},
   "source": [
    "So, as you can see above, Sigmoid has default threshold 0.5. And all values above this threshold will be considered as class 1, and the otherwise will be considered as class 0."
   ]
  },
  {
   "cell_type": "markdown",
   "metadata": {},
   "source": [
    "Now, we will talk about steps we are going to do:\n",
    "<br>\n",
    "\n",
    "1. Build network architecture\n",
    "2. Define model hyperparameters\n",
    "3. Setup training config\n",
    "4. Write training-validation loop\n",
    "5. Plot Loss\n",
    "6. Inference on test set\n",
    "7. Evaluation metrics"
   ]
  },
  {
   "cell_type": "code",
   "execution_count": 34,
   "metadata": {},
   "outputs": [],
   "source": [
    "# model architecture\n",
    "\n",
    "class SentimentModel(nn.Module):\n",
    "    def __init__(self, vocab_size, output_size, hidden_size=128, embedding_size=400, n_layers=2, dropout=0.2):\n",
    "        super(SentimentModel, self).__init__()\n",
    "\n",
    "        # embedding layer is useful to map input into vector representation\n",
    "        self.embedding = nn.Embedding(vocab_size, embedding_size)\n",
    "\n",
    "        # LSTM layer preserved by PyTorch library\n",
    "        self.lstm = nn.LSTM(embedding_size, hidden_size, n_layers, dropout=dropout, batch_first=True)\n",
    "\n",
    "        # dropout layer\n",
    "        self.dropout = nn.Dropout(0.3)\n",
    "\n",
    "        # Linear layer for output\n",
    "        self.fc = nn.Linear(hidden_size, output_size)\n",
    "\n",
    "        # Sigmoid layer cz we will have binary classification\n",
    "        self.sigmoid = nn.Sigmoid()\n",
    "\n",
    "    def forward(self, x):\n",
    "        \n",
    "        # convert feature to long\n",
    "        x = x.long()\n",
    "\n",
    "        # map input to vector\n",
    "        x = self.embedding(x)\n",
    "\n",
    "        # pass forward to lstm\n",
    "        o, _ =  self.lstm(x)\n",
    "\n",
    "        # get last sequence output\n",
    "        o = o[:, -1, :]\n",
    "\n",
    "        # apply dropout and fully connected layer\n",
    "        o = self.dropout(o)\n",
    "        o = self.fc(o)\n",
    "\n",
    "        # sigmoid\n",
    "        o = self.sigmoid(o)\n",
    "\n",
    "        return o"
   ]
  },
  {
   "cell_type": "markdown",
   "metadata": {},
   "source": [
    "So, we just created our simple neural network consisting of several layers as follows:\n",
    "- Embedding layer, where we can reduce the dimensionality of our vocabulary by learning its representation.\n",
    "- LSTM layer, which will have the most work of our model\n",
    "- Dropout layer, is the layer that have a task to reduce noise in our model. So it expected to prevent our model being overfit.\n",
    "- Fully connected (Dense) layer, that classify our output vector from LSTM.\n",
    "- Sigmoid layer, that *translates* the output of fully connected layer and give us view to the outputs more clearly.\n",
    "\n",
    "<br><br>\n",
    "Since training neural network model takes quite long time sometimes, we can speed up the training process by using GPU. But as not all device has GPU installed and/or supported, we will try to detect automatically if the device has GPU or not."
   ]
  },
  {
   "cell_type": "code",
   "execution_count": 35,
   "metadata": {},
   "outputs": [
    {
     "name": "stdout",
     "output_type": "stream",
     "text": [
      "cuda\n"
     ]
    }
   ],
   "source": [
    "# define training device\n",
    "device = torch.device('cuda' if torch.cuda.is_available() else 'cpu')\n",
    "print(device)"
   ]
  },
  {
   "cell_type": "markdown",
   "metadata": {},
   "source": [
    "Here we define our model hyperparameters that we can modify to tune our model to produce the best performance."
   ]
  },
  {
   "cell_type": "code",
   "execution_count": 36,
   "metadata": {},
   "outputs": [
    {
     "name": "stdout",
     "output_type": "stream",
     "text": [
      "SentimentModel(\n",
      "  (embedding): Embedding(121301, 256)\n",
      "  (lstm): LSTM(256, 256, num_layers=2, batch_first=True, dropout=0.25)\n",
      "  (dropout): Dropout(p=0.3, inplace=False)\n",
      "  (fc): Linear(in_features=256, out_features=1, bias=True)\n",
      "  (sigmoid): Sigmoid()\n",
      ")\n"
     ]
    }
   ],
   "source": [
    "# model hyperparamters\n",
    "vocab_size = len(word2int)\n",
    "output_size = 1\n",
    "embedding_size = 256\n",
    "hidden_size = 256\n",
    "n_layers = 2\n",
    "dropout=0.25\n",
    "\n",
    "# model initialization\n",
    "model = SentimentModel(vocab_size, output_size, hidden_size, embedding_size, n_layers, dropout)\n",
    "print(model)"
   ]
  },
  {
   "cell_type": "markdown",
   "metadata": {},
   "source": [
    "Then, we define some training config for our model. Since we have *binary classification* task, we will use **Binary Cross Entropy Loss (BCELoss)** as our loss function. And we will use **Adam** as optimizer as it shown in many references that it could find converge point quickly.\n",
    "<br><br>\n",
    "We also define `early_stop` mechanism that expected to prevent our model being overfit by stop training once the monitored parameters (e.g. `val_loss` or `val_acc`) is not improved by several epochs anymore."
   ]
  },
  {
   "cell_type": "code",
   "execution_count": 37,
   "metadata": {},
   "outputs": [],
   "source": [
    "# training config\n",
    "lr = 0.0005\n",
    "criterion = nn.BCELoss()  # we use BCELoss cz we have binary classification problem\n",
    "optim = Adam(model.parameters(), lr=lr)\n",
    "grad_clip = 5\n",
    "epochs = 5\n",
    "print_every = 1\n",
    "history = {\n",
    "    'train_loss': [],\n",
    "    'train_acc': [],\n",
    "    'val_loss': [],\n",
    "    'val_acc': [],\n",
    "    'epochs': epochs\n",
    "}\n",
    "es_limit = 5"
   ]
  },
  {
   "cell_type": "markdown",
   "metadata": {},
   "source": [
    "**This is our main part!**\n",
    "<br>\n",
    "So, here we define training and validation loop. We will use only 5 epochs and see if we need more or less epochs to obtain good performance. We log our loss and accuracy for each epochs, so we can plot them later to see how the performances."
   ]
  },
  {
   "cell_type": "code",
   "execution_count": 38,
   "metadata": {},
   "outputs": [
    {
     "name": "stderr",
     "output_type": "stream",
     "text": [
      "Training:  20%|██        | 1/5 [04:32<18:08, 272.03s/it, Val Loss: 0.486 | Val Acc: 0.768]"
     ]
    },
    {
     "name": "stdout",
     "output_type": "stream",
     "text": [
      "Epoch 1/5 | Train Loss: 0.603 Train Acc: 0.667 | Val Loss: 0.486 Val Acc: 0.768\n"
     ]
    },
    {
     "name": "stderr",
     "output_type": "stream",
     "text": [
      "Training:  60%|██████    | 3/5 [10:01<07:01, 210.74s/it, Val Loss: 0.356 | Val Acc: 0.851]"
     ]
    },
    {
     "name": "stdout",
     "output_type": "stream",
     "text": [
      "Epoch 2/5 | Train Loss: 0.408 Train Acc: 0.825 | Val Loss: 0.356 Val Acc: 0.851\n"
     ]
    },
    {
     "name": "stderr",
     "output_type": "stream",
     "text": [
      "Training:  80%|████████  | 4/5 [15:04<04:07, 247.28s/it, Val Loss: 0.327 | Val Acc: 0.868]"
     ]
    },
    {
     "name": "stdout",
     "output_type": "stream",
     "text": [
      "Epoch 3/5 | Train Loss: 0.286 Train Acc: 0.884 | Val Loss: 0.327 Val Acc: 0.868\n"
     ]
    },
    {
     "name": "stderr",
     "output_type": "stream",
     "text": [
      "Training: 6it [20:25, 213.44s/it, Training batch 0/1094]                                  "
     ]
    },
    {
     "name": "stdout",
     "output_type": "stream",
     "text": [
      "Epoch 4/5 | Train Loss: 0.208 Train Acc: 0.921 | Val Loss: 0.348 Val Acc: 0.862\n",
      "[WARNING] Validation loss did not improved (0.327 --> 0.348)\n"
     ]
    },
    {
     "name": "stderr",
     "output_type": "stream",
     "text": [
      "Training: 100%|██████████| 5/5 [26:47<00:00, 321.47s/it, Val Loss: 0.369 | Val Acc: 0.866]"
     ]
    },
    {
     "name": "stdout",
     "output_type": "stream",
     "text": [
      "Epoch 5/5 | Train Loss: 0.150 Train Acc: 0.946 | Val Loss: 0.369 Val Acc: 0.866\n",
      "[WARNING] Validation loss did not improved (0.327 --> 0.369)\n"
     ]
    },
    {
     "name": "stderr",
     "output_type": "stream",
     "text": [
      "\n"
     ]
    }
   ],
   "source": [
    "# train loop\n",
    "model = model.to(device)\n",
    "\n",
    "epochloop = tqdm(range(epochs), position=0, desc='Training', leave=True)\n",
    "\n",
    "# early stop trigger\n",
    "es_trigger = 0\n",
    "val_loss_min = torch.inf\n",
    "\n",
    "for e in epochloop:\n",
    "\n",
    "    #################\n",
    "    # training mode #\n",
    "    #################\n",
    "\n",
    "    model.train()\n",
    "\n",
    "    train_loss = 0\n",
    "    train_acc = 0\n",
    "\n",
    "    for id, (feature, target) in enumerate(trainloader):\n",
    "        # add epoch meta info\n",
    "        epochloop.set_postfix_str(f'Training batch {id}/{len(trainloader)}')\n",
    "\n",
    "        # move to device\n",
    "        feature, target = feature.to(device), target.to(device)\n",
    "\n",
    "        # reset optimizer\n",
    "        optim.zero_grad()\n",
    "\n",
    "        # forward pass\n",
    "        out = model(feature)\n",
    "\n",
    "        # acc\n",
    "        predicted = torch.tensor([1 if i == True else 0 for i in out > 0.5], device=device)\n",
    "        equals = predicted == target\n",
    "        acc = torch.mean(equals.type(torch.FloatTensor))\n",
    "        train_acc += acc.item()\n",
    "\n",
    "        # loss\n",
    "        loss = criterion(out.squeeze(), target.float())\n",
    "        train_loss += loss.item()\n",
    "        loss.backward()\n",
    "\n",
    "        # clip grad\n",
    "        nn.utils.clip_grad_norm_(model.parameters(), grad_clip)\n",
    "\n",
    "        # update optimizer\n",
    "        optim.step()\n",
    "\n",
    "        # free some memory\n",
    "        del feature, target, predicted\n",
    "\n",
    "    history['train_loss'].append(train_loss / len(trainloader))\n",
    "    history['train_acc'].append(train_acc / len(trainloader))\n",
    "\n",
    "    ####################\n",
    "    # validation model #\n",
    "    ####################\n",
    "\n",
    "    model.eval()\n",
    "\n",
    "    val_loss = 0\n",
    "    val_acc = 0\n",
    "\n",
    "    with torch.no_grad():\n",
    "        for id, (feature, target) in enumerate(valloader):\n",
    "            # add epoch meta info\n",
    "            epochloop.set_postfix_str(f'Validation batch {id}/{len(valloader)}')\n",
    "            \n",
    "            # move to device\n",
    "            feature, target = feature.to(device), target.to(device)\n",
    "\n",
    "            # forward pass\n",
    "            out = model(feature)\n",
    "\n",
    "            # acc\n",
    "            predicted = torch.tensor([1 if i == True else 0 for i in out > 0.5], device=device)\n",
    "            equals = predicted == target\n",
    "            acc = torch.mean(equals.type(torch.FloatTensor))\n",
    "            val_acc += acc.item()\n",
    "\n",
    "            # loss\n",
    "            loss = criterion(out.squeeze(), target.float())\n",
    "            val_loss += loss.item()\n",
    "\n",
    "            # free some memory\n",
    "            del feature, target, predicted\n",
    "\n",
    "        history['val_loss'].append(val_loss / len(valloader))\n",
    "        history['val_acc'].append(val_acc / len(valloader))\n",
    "\n",
    "    # reset model mode\n",
    "    model.train()\n",
    "\n",
    "    # add epoch meta info\n",
    "    epochloop.set_postfix_str(f'Val Loss: {val_loss / len(valloader):.3f} | Val Acc: {val_acc / len(valloader):.3f}')\n",
    "\n",
    "    # print epoch\n",
    "    if (e+1) % print_every == 0:\n",
    "        epochloop.write(f'Epoch {e+1}/{epochs} | Train Loss: {train_loss / len(trainloader):.3f} Train Acc: {train_acc / len(trainloader):.3f} | Val Loss: {val_loss / len(valloader):.3f} Val Acc: {val_acc / len(valloader):.3f}')\n",
    "        epochloop.update()\n",
    "\n",
    "    # save model if validation loss decrease\n",
    "    if val_loss / len(valloader) <= val_loss_min:\n",
    "        torch.save(model.state_dict(), '../models/sentiment_lstm.pt')\n",
    "        val_loss_min = val_loss / len(valloader)\n",
    "        es_trigger = 0\n",
    "    else:\n",
    "        epochloop.write(f'[WARNING] Validation loss did not improved ({val_loss_min:.3f} --> {val_loss / len(valloader):.3f})')\n",
    "        es_trigger += 1\n",
    "\n",
    "    # force early stop\n",
    "    if es_trigger >= es_limit:\n",
    "        epochloop.write(f'Early stopped at Epoch-{e+1}')\n",
    "        # update epochs history\n",
    "        history['epochs'] = e+1\n",
    "        break"
   ]
  },
  {
   "cell_type": "code",
   "execution_count": 39,
   "metadata": {},
   "outputs": [
    {
     "data": {
      "image/png": "[encoded data removed]",
      "text/plain": [
       "<Figure size 432x576 with 1 Axes>"
      ]
     },
     "metadata": {
      "needs_background": "light"
     },
     "output_type": "display_data"
    }
   ],
   "source": [
    "# plot loss\n",
    "plt.figure(figsize=(6, 8))\n",
    "plt.plot(range(history['epochs']), history['train_acc'], label='Train Acc')\n",
    "plt.plot(range(history['epochs']), history['val_acc'], label='Val Acc')\n",
    "plt.legend()\n",
    "plt.show()"
   ]
  },
  {
   "cell_type": "code",
   "execution_count": 41,
   "metadata": {},
   "outputs": [
    {
     "data": {
      "image/png": "[encoded data removed]",
      "text/plain": [
       "<Figure size 432x576 with 1 Axes>"
      ]
     },
     "metadata": {
      "needs_background": "light"
     },
     "output_type": "display_data"
    }
   ],
   "source": [
    "# plot loss\n",
    "plt.figure(figsize=(6, 8))\n",
    "plt.plot(range(history['epochs']), history['train_loss'], label='Train Loss')\n",
    "plt.plot(range(history['epochs']), history['val_loss'], label='Val Loss')\n",
    "plt.legend()\n",
    "plt.show()"
   ]
  },
  {
   "cell_type": "markdown",
   "metadata": {},
   "source": [
    "So, as we can see from both graph above we can conclude that our model is tend to overfitting. As you can see, the validation loss start to increasing after 4th epochs, and the validation accuracy also didn't improved significantly anymore after 4th epochs.\n",
    "<br><br>\n",
    "Now let's see how is our model performance on predicting unseen data!"
   ]
  },
  {
   "cell_type": "markdown",
   "metadata": {},
   "source": [
    "## Inference"
   ]
  },
  {
   "cell_type": "markdown",
   "metadata": {},
   "source": [
    "Here we want to see our model performance on predicting unseen data, that is test set. The loop is quite similar with train loop, but we won't perform any backpropagation here. And also, we turned off the gradient by calling `torch.no_grad()` to keep some memory allocation and speeding up inference process."
   ]
  },
  {
   "cell_type": "code",
   "execution_count": 49,
   "metadata": {},
   "outputs": [
    {
     "name": "stderr",
     "output_type": "stream",
     "text": [
      "Inference: 100%|██████████| 235/235 [00:21<00:00, 10.88it/s]"
     ]
    },
    {
     "name": "stdout",
     "output_type": "stream",
     "text": [
      "Accuracy: 0.8603, Loss: 0.3665\n"
     ]
    },
    {
     "name": "stderr",
     "output_type": "stream",
     "text": [
      "\n"
     ]
    }
   ],
   "source": [
    "# test loop\n",
    "model.eval()\n",
    "\n",
    "# metrics\n",
    "test_loss = 0\n",
    "test_acc = 0\n",
    "\n",
    "all_target = []\n",
    "all_predicted = []\n",
    "\n",
    "testloop = tqdm(testloader, leave=True, desc='Inference')\n",
    "with torch.no_grad():\n",
    "    for feature, target in testloop:\n",
    "        feature, target = feature.to(device), target.to(device)\n",
    "\n",
    "        out = model(feature)\n",
    "        \n",
    "        predicted = torch.tensor([1 if i == True else 0 for i in out > 0.5], device=device)\n",
    "        equals = predicted == target\n",
    "        acc = torch.mean(equals.type(torch.FloatTensor))\n",
    "        test_acc += acc.item()\n",
    "\n",
    "        loss = criterion(out.squeeze(), target.float())\n",
    "        test_loss += loss.item()\n",
    "\n",
    "        all_target.extend(target.cpu().numpy())\n",
    "        all_predicted.extend(predicted.cpu().numpy())\n",
    "\n",
    "    print(f'Accuracy: {test_acc/len(testloader):.4f}, Loss: {test_loss/len(testloader):.4f}')"
   ]
  },
  {
   "cell_type": "markdown",
   "metadata": {},
   "source": [
    "Surprisingly, our model accuracy on test data is quite good! It could predict unseen data `86.03%` correctly.\n",
    "<br><br>\n",
    "Nevertheless, we still have an overfitting issue that we need to solve in the future."
   ]
  },
  {
   "cell_type": "markdown",
   "metadata": {},
   "source": [
    "## Evaluation Metrics"
   ]
  },
  {
   "cell_type": "code",
   "execution_count": 50,
   "metadata": {},
   "outputs": [
    {
     "name": "stdout",
     "output_type": "stream",
     "text": [
      "              precision    recall  f1-score   support\n",
      "\n",
      "           0       0.87      0.85      0.86      3828\n",
      "           1       0.85      0.87      0.86      3672\n",
      "\n",
      "    accuracy                           0.86      7500\n",
      "   macro avg       0.86      0.86      0.86      7500\n",
      "weighted avg       0.86      0.86      0.86      7500\n",
      "\n"
     ]
    }
   ],
   "source": [
    "print(classification_report(all_predicted, all_target))"
   ]
  },
  {
   "cell_type": "code",
   "execution_count": 56,
   "metadata": {},
   "outputs": [
    {
     "data": {
      "image/png": "[encoded data removed]",
      "text/plain": [
       "<Figure size 360x360 with 2 Axes>"
      ]
     },
     "metadata": {
      "needs_background": "light"
     },
     "output_type": "display_data"
    }
   ],
   "source": [
    "cm = confusion_matrix(all_predicted, all_target)\n",
    "plt.figure(figsize=(5,5))\n",
    "sns.heatmap(cm, annot=True, fmt='g')\n",
    "plt.title('Confusion Matrix')\n",
    "plt.show()"
   ]
  },
  {
   "cell_type": "markdown",
   "metadata": {},
   "source": [
    "According to the classification report it can be seen that our accuracy is not tends to specific class. And the confusion matrix also shown that there is no big difference between misclassified positive and negative reviews. This may happens because we have a balance datasets."
   ]
  },
  {
   "cell_type": "markdown",
   "metadata": {},
   "source": [
    "## Conclusion\n",
    "To sum up, here what we did along the project:\n",
    "- We taken IMDB movie review from kaggle consist of 50K positive and negative reviews and fortunately it has balance dataset.\n",
    "- We transform our label into 1 and 0 for positive and negative class respectively\n",
    "- We create our own cleaning and preprocessing script\n",
    "- Then we built vocabulary, encoding all reviews, add padding/trimming mechanism, making train test and validation set, create dataloader to make batches data\n",
    "- We built our model architecture, defining hyperparameters, writing training and validation loop, and we plot our loss and accuracies.\n",
    "- Then we do inference on test data, and surprisingly it still has a quite good performance with accuracy ~86%\n",
    "- Finally, we see our model evaluation using various metrics and plotting confusion matrix which showing that our model could classify most data correctly and not tends to specific class as we have balanced dataset."
   ]
  },
  {
   "cell_type": "markdown",
   "metadata": {},
   "source": [
    "### References:\n",
    "- [Udacity - Introduction to PyTorch](https://classroom.udacity.com/courses/ud188)\n",
    "- [The Unreasonable Effectiveness of RNNs by Andrej Karpathy](http://karpathy.github.io/2015/05/21/rnn-effectiveness/)\n",
    "- [PyTorch Name Classification project](https://github.com/python-engineer/pytorch-examples/tree/master/rnn-name-classification)\n",
    "- [My exploration project in RNNs](https://github.com/fhrzn/all-about-rnn)"
   ]
  },
  {
   "cell_type": "markdown",
   "metadata": {},
   "source": [
    "<hr>"
   ]
  },
  {
   "cell_type": "markdown",
   "metadata": {},
   "source": [
    "## Thank you for reading! Спасибо! 🙇‍♂️\n",
    "```Made with effort by Affandy Fahrizain```\n",
    "\n",
    "My other projects:\n",
    "- Github - [https://github.com/fhrzn](https://github.com/fhrzn)\n",
    "\n",
    "For further discussion, don't hesitate to catch me up at:\n",
    "- Gmail - [fahri.lafa@gmail.com](mailto:fahri.lafa@gmail.com)\n",
    "- Linkedin - [linkedin.com/in/fahrizainn](linkedin.com/in/fahrizainn)"
   ]
  }
 ],
 "metadata": {
  "interpreter": {
   "hash": "e7a7f8887abec87f9a5d5d6418a01cb1f181ea97746d227f5e3ce398a532a8c3"
  },
  "kernelspec": {
   "display_name": "Python 3.8.8 ('base')",
   "language": "python",
   "name": "python3"
  },
  "language_info": {
   "codemirror_mode": {
    "name": "ipython",
    "version": 3
   },
   "file_extension": ".py",
   "mimetype": "text/x-python",
   "name": "python",
   "nbconvert_exporter": "python",
   "pygments_lexer": "ipython3",
   "version": "3.8.8"
  },
  "orig_nbformat": 4
 },
 "nbformat": 4,
 "nbformat_minor": 2
}
